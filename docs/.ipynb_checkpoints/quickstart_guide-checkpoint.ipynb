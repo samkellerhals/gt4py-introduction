{
 "cells": [
  {
   "cell_type": "markdown",
   "id": "a8ff2a27",
   "metadata": {},
   "source": [
    "# Getting started with the GT4Py declarative frontend"
   ]
  },
  {
   "cell_type": "markdown",
   "id": "7852a8cb",
   "metadata": {},
   "source": [
    "## Installation\n",
    "\n",
    "You can install the library directly from GitHub using pip:"
   ]
  },
  {
   "cell_type": "code",
   "execution_count": null,
   "id": "d8e31fa8",
   "metadata": {},
   "outputs": [],
   "source": [
    "!pip install git+https://github.com/gridtools/gt4py.git@functional"
   ]
  },
  {
   "cell_type": "markdown",
   "id": "ce507d4b",
   "metadata": {},
   "source": [
    "## Programming guide\n",
    "\n",
    "### Key concepts and application structure\n",
    "\n",
    "This section introduces three concepts for storing and manipulating data:\n",
    "- [Fields](#Fields),\n",
    "- [Field operators](#Field-operators), and\n",
    "- [Programs](#Programs).\n",
    "\n",
    "The concepts are demonstrated through a simple application that adds two fields."
   ]
  },
  {
   "cell_type": "markdown",
   "id": "29f1521b",
   "metadata": {},
   "source": [
    "#### Importing features\n",
    "\n",
    "The following snippet imports the most commonly used features that are needed to run the code in this document. Numpy is also required by the examples."
   ]
  },
  {
   "cell_type": "code",
   "execution_count": 1,
   "id": "24a6d627",
   "metadata": {},
   "outputs": [
    {
     "name": "stderr",
     "output_type": "stream",
     "text": [
      "/usr/lib/python3/dist-packages/pkg_resources/__init__.py:116: PkgResourcesDeprecationWarning: 0.1.43ubuntu1 is an invalid version and will not be supported in a future release\n",
      "  warnings.warn(\n"
     ]
    }
   ],
   "source": [
    "import numpy as np\n",
    "\n",
    "from functional.ffront.fbuiltins import Dimension, Field, float32, FieldOffset, neighbor_sum\n",
    "from functional.ffront.decorator import field_operator, program\n",
    "from functional.iterator.embedded import np_as_located_field, NeighborTableOffsetProvider"
   ]
  },
  {
   "cell_type": "markdown",
   "id": "af6dc86a",
   "metadata": {},
   "source": [
    "#### Fields\n",
    "\n",
    "Fields store data as a multi-dimensional array, and are defined over a set of named dimensions. The code snippet below defines two named dimensions, *cell* and *K*, and creates the fields `a` and `b` over their cartesian product using the `np_as_located_field` helper function. The fields contain the values 2 for `a` and 3 for `b` for all entries."
   ]
  },
  {
   "cell_type": "code",
   "execution_count": 2,
   "id": "b62f10ec",
   "metadata": {},
   "outputs": [],
   "source": [
    "CellDim = Dimension(\"Cell\")\n",
    "KDim = Dimension(\"K\")\n",
    "\n",
    "num_cells = 5\n",
    "num_layers = 6\n",
    "grid_shape = (num_cells, num_layers)\n",
    "\n",
    "a_value = 2.0\n",
    "b_value = 3.0\n",
    "a = np_as_located_field(CellDim, KDim)(np.full(shape=grid_shape, fill_value=a_value, dtype=np.float32))\n",
    "b = np_as_located_field(CellDim, KDim)(np.full(shape=grid_shape, fill_value=b_value, dtype=np.float32))"
   ]
  },
  {
   "cell_type": "markdown",
   "id": "80bfe0b8",
   "metadata": {},
   "source": [
    "*Note: The interface to construct fields is provisional only and will change soon.*"
   ]
  },
  {
   "cell_type": "markdown",
   "id": "d6deeffe",
   "metadata": {},
   "source": [
    "#### Field operators\n",
    "\n",
    "Field operators perform operations on a set of fields, for example, elementwise addition or reduction along a dimension. You can write field operators as Python functions by using the `@field_operator` decorator. Field operators cannot have side effects, therefore you cannot modify its arguments within their body. Only a subset of the Python syntax is allowed inside field operators—the library checks for correctness.\n",
    "\n",
    "Let's see an example for a field operator that adds two fields elementwise:"
   ]
  },
  {
   "cell_type": "code",
   "execution_count": 3,
   "id": "8c46ca38",
   "metadata": {},
   "outputs": [],
   "source": [
    "@field_operator\n",
    "def add(a: Field[[CellDim, KDim], float32],\n",
    "        b: Field[[CellDim, KDim], float32]) -> Field[[CellDim, KDim], float32]:\n",
    "    return a + b"
   ]
  },
  {
   "cell_type": "markdown",
   "id": "f54626b3",
   "metadata": {},
   "source": [
    "You can call field operators from [programs](#Programs), other field operators, or directly. The code snippet below shows a direct call, in which case you have to supply two additional arguments: `out`, which is a field to write the return value to, and `offset_provider`, which is left empty for now. The result of the field operator is a field with all entries equal to 5, but for brevity, only the average and the standard deviation of the entries are printed:"
   ]
  },
  {
   "cell_type": "code",
   "execution_count": 4,
   "id": "5720a139",
   "metadata": {},
   "outputs": [
    {
     "name": "stdout",
     "output_type": "stream",
     "text": [
      "2.0 + 3.0 = 5.0 ± 0.0\n"
     ]
    },
    {
     "name": "stderr",
     "output_type": "stream",
     "text": [
      "/home/sk/.local/lib/python3.10/site-packages/functional/ffront/decorator.py:254: UserWarning: Field View Program '__field_operator_add': Using default (roundtrip) backend.\n",
      "  warnings.warn(\n"
     ]
    }
   ],
   "source": [
    "result = np_as_located_field(CellDim, KDim)(np.zeros(shape=grid_shape))\n",
    "add(a, b, out=result, offset_provider={})\n",
    "\n",
    "print(\"{} + {} = {} ± {}\".format(a_value, b_value, np.average(np.asarray(result)), np.std(np.asarray(result))))"
   ]
  },
  {
   "cell_type": "markdown",
   "id": "055091db",
   "metadata": {},
   "source": [
    "#### Programs"
   ]
  },
  {
   "cell_type": "markdown",
   "id": "2b9d48ba",
   "metadata": {},
   "source": [
    "Programs let you group together multiple field operator calls as a sequence of operations. They are similar to field operators in that they also use a decorator (`@program`) and that they can only use a subset of the Python syntax, but programs can mutate their arguments. Currently, the syntax inside programs is limited to calling field operators.\n",
    "\n",
    "This example program below calls the above elementwise addition field operator twice:"
   ]
  },
  {
   "cell_type": "code",
   "execution_count": 5,
   "id": "5e8cd123",
   "metadata": {},
   "outputs": [],
   "source": [
    "@program\n",
    "def run_add(a : Field[[CellDim, KDim], float32],\n",
    "            b : Field[[CellDim, KDim], float32],\n",
    "            result : Field[[CellDim, KDim], float32]):\n",
    "    add(a, b, out=result)\n",
    "    add(b, result, out=result)"
   ]
  },
  {
   "cell_type": "markdown",
   "id": "486adfb4",
   "metadata": {},
   "source": [
    "You can execute the program by simply calling it:"
   ]
  },
  {
   "cell_type": "code",
   "execution_count": 6,
   "id": "6a1be433",
   "metadata": {},
   "outputs": [
    {
     "name": "stdout",
     "output_type": "stream",
     "text": [
      "3.0 + 5.0 = 8.0 ± 0.0\n"
     ]
    },
    {
     "name": "stderr",
     "output_type": "stream",
     "text": [
      "/home/sk/.local/lib/python3.10/site-packages/functional/ffront/decorator.py:254: UserWarning: Field View Program 'run_add': Using default (roundtrip) backend.\n",
      "  warnings.warn(\n"
     ]
    }
   ],
   "source": [
    "result = np_as_located_field(CellDim, KDim)(np.zeros(shape=grid_shape))\n",
    "run_add(a, b, result, offset_provider={})\n",
    "\n",
    "print(\"{} + {} = {} ± {}\".format(b_value, (a_value + b_value), np.average(np.asarray(result)), np.std(np.asarray(result))))"
   ]
  },
  {
   "cell_type": "markdown",
   "id": "9a605008",
   "metadata": {},
   "source": [
    "#### Composing field operators and programs\n",
    "\n",
    "When writing complex applications, you have to decompose it into *field operators*, *programs*, and Python (or other) code that glues it all together. The general advice is to follow best practices and write short and concise field operators that serve a single purpose. To maximise automatic optimization, use external glue code sparingly and group your field operators inside *programs* as much as you can. Consequently, directly calling field operators is primarily used for debugging purposes."
   ]
  },
  {
   "cell_type": "markdown",
   "id": "81df3c16",
   "metadata": {},
   "source": [
    "### Operations on unstructured meshes\n",
    "\n",
    "This section introduces additional APIs through a slightly more elaborate application that performs a laplacian-like operation on an unstructured mesh. Within the context of this guide, we define the *pseudo-laplacian* for a cell as the sum of the *edge differences* around the cell. For example, the pseudo-laplacian for cell \\#1, which is surrounded by edges \\#7, \\#8 and \\#9, is expressed by the formula:\n",
    "\n",
    "$$\\begin{aligned}\\text{pseudolap}(cell_1) =\\,& \\text{edge_diff}_7 + \\text{edge_diff}_8 + \\text{edge_diff}_9 \\end{aligned}$$.\n",
    "\n",
    "The edge difference above is defined as the difference between the two cells adjacent to and edge, so for edge \\#7 the equation is:\n",
    "\n",
    "$$\\begin{aligned} \\text{edge_diff}_7 =\\,& \\text{edge_diff}_{0,1} = \\text{value_of}(\\text{cell}_0) - \\text{value_of}(\\text{cell}_1) \\end{aligned}$$\n",
    "\n",
    "The sign of the edge difference in the sum of the pseudo-laplacian is always such that the neighbor cell is subtracted from the subject cell, not the other way around.\n",
    "\n",
    "This section approaches the pseudo-laplacian by introducing the required APIs progressively through the following subsections:\n",
    "- [Defining the mesh and the connectivities (adjacencies) between cells and edges](#Defining-the-mesh-and-its-connectivities)\n",
    "- [Using connectivities in field operators](#Using-connectivities-in-field-operators)\n",
    "- [Using reductions on connected mesh elements](#Using-reductions-on-connected-mesh-elements)\n",
    "- [Implementing the actual pseudo-laplacian](#Implementing-the-pseudo-laplacian)"
   ]
  },
  {
   "cell_type": "markdown",
   "id": "dabc1ae7",
   "metadata": {},
   "source": [
    "#### Defining the mesh and its connectivities\n",
    "\n",
    "The examples related to unstructured meshes use the mesh below. The edges (in blue) and the cells (in red) are numbered with zero-based indices.\n",
    "\n",
    "| ![grid_topo](connectivity_numbered_grid.svg) |\n",
    "|:--:| \n",
    "| *The mesh with the indices* |"
   ]
  },
  {
   "cell_type": "markdown",
   "id": "73afcf71",
   "metadata": {},
   "source": [
    "The fields in the subsequent code snippets are 1-dimensional, either over the cells or over the edges. The corresponding named dimensions are thus the following:"
   ]
  },
  {
   "cell_type": "code",
   "execution_count": 7,
   "id": "0071953f",
   "metadata": {},
   "outputs": [],
   "source": [
    "CellDim = Dimension(\"Cell\")\n",
    "EdgeDim = Dimension(\"Edge\")"
   ]
  },
  {
   "cell_type": "markdown",
   "id": "db749902",
   "metadata": {},
   "source": [
    "You can express connectivity between elements (i.e. cells or edges) of the mesh using connectivity (a.k.a. adjacency or neighborhood) tables. The table below, `edge_to_cell_table`, has one row for every edge where it lists the indices of cells adjacent to that edge. For example, this table says that edge \\#6 connects to cells \\#0 and \\#5. Similarly, `cell_to_edge_table` lists the edges that are neighbors to a particular cell.\n",
    "\n",
    "Note, however, that the tables are dense matrices, so if an edge has fewer than 2 neighbor cells, the remaining entries are filled with -1. You can also specify all kinds of connectivities like edge-to-edge, cell-to-edge or even cell-to-cell. The adjacency relationships don't have to be reciprocal, so it's possible for example that a cell lists an edge as its neighbour, but the edge does not list that particular cell.\n",
    "\n",
    "The edge-to-cell and cell-to-edge connectivity tables for the mesh are the following:"
   ]
  },
  {
   "cell_type": "code",
   "execution_count": 8,
   "id": "a41bbf6a",
   "metadata": {},
   "outputs": [],
   "source": [
    "edge_to_cell_table = np.array([\n",
    "    [0, -1], # edge 0 (neighbours: cell 0)\n",
    "    [2, -1], # edge 1\n",
    "    [2, -1], # edge 2\n",
    "    [3, -1], # edge 3\n",
    "    [4, -1], # edge 4\n",
    "    [5, -1], # edge 5\n",
    "    [0, 5],  # edge 6 (neighbours: cell 0, cell 5)\n",
    "    [0, 1],  # edge 7\n",
    "    [1, 2],  # edge 8\n",
    "    [1, 3],  # edge 9\n",
    "    [3, 4],  # edge 10\n",
    "    [4, 5]   # edge 11\n",
    "])\n",
    "\n",
    "cell_to_edge_table = np.array([\n",
    "    [0, 6, 7],   # cell 0 (neighbors: edge 0, edge 6, edge 7)\n",
    "    [7, 8, 9],   # cell 1\n",
    "    [1, 2, 8],   # cell 2\n",
    "    [3, 9, 10],  # cell 3\n",
    "    [4, 10, 11], # cell 4\n",
    "    [5, 6, 11],  # cell 5\n",
    "])"
   ]
  },
  {
   "cell_type": "markdown",
   "id": "8b65ba28",
   "metadata": {},
   "source": [
    "#### Using connectivities in field operators\n",
    "\n",
    "Let's start by defining two fields: one over the cells and another one over the edges. The field over cells serves input for subsequent calculations and is therefore filled up with values, whereas the field over the edges stores the output of the calculations and is therefore left blank."
   ]
  },
  {
   "cell_type": "code",
   "execution_count": 9,
   "id": "cb6dd168",
   "metadata": {},
   "outputs": [],
   "source": [
    "cell_values = np_as_located_field(CellDim)(np.array([1.0, 1.0, 2.0, 3.0, 5.0, 8.0]))\n",
    "edge_values = np_as_located_field(EdgeDim)(np.zeros((12,)))"
   ]
  },
  {
   "cell_type": "markdown",
   "id": "822799a8",
   "metadata": {},
   "source": [
    "| ![cell_values](connectivity_cell_field.svg) | \n",
    "|:--:| \n",
    "| *Cell values* |"
   ]
  },
  {
   "cell_type": "markdown",
   "id": "4966bee1",
   "metadata": {},
   "source": [
    "You can transform fields (or tuples of fields) over one domain to another domain by using the call operator of the source field with a *field offset* as argument. This transform uses the connectivity between the source and target domains to find the values of adjacent mesh elements.\n",
    "\n",
    "To understand this transform, you can look at the edge-to-cell connectivity table `edge_to_cell_table` listed above. This table has the same shape as the output of the transform, that is, one dimension over the edges and another *local* dimension. The table stores indices into a field over cells, the transform essentially gives you another field where the indices have been replaced with the values in the cell field at the corresponding indices.\n",
    "\n",
    "Another way to look at it is that transform uses the edge-to-cell connectivity to look up all the cell neighbors of edges, and associates the values of those neighbor cells with each edge.\n",
    "\n",
    "You can use the field offset `E2C` below to transform a field over cells to a field over edges using the edge-to-cell connectivities:"
   ]
  },
  {
   "cell_type": "code",
   "execution_count": 13,
   "id": "54ca0cbc",
   "metadata": {},
   "outputs": [],
   "source": [
    "E2CDim = Dimension(\"E2C\", local=True)\n",
    "E2C = FieldOffset(\"E2C\", source=CellDim, target=(EdgeDim)"
   ]
  },
  {
   "cell_type": "markdown",
   "id": "9dc42f91",
   "metadata": {},
   "source": [
    "Note that the field offset does not contain the actual connectivity table, that's provided through an *offset provider*:"
   ]
  },
  {
   "cell_type": "code",
   "execution_count": 14,
   "id": "63e1420c",
   "metadata": {},
   "outputs": [],
   "source": [
    "E2C_offset_provider = NeighborTableOffsetProvider(edge_to_cell_table, EdgeDim, CellDim, 2)"
   ]
  },
  {
   "cell_type": "markdown",
   "id": "a61cf3be",
   "metadata": {},
   "source": [
    "The field operator `nearest_cell_to_edge` below shows an example of applying this transform. There is a little twist though: the subscript in `E2C[0]` means that only the value of the first connected cell is taken, the second (if exists) is ignored.\n",
    "\n",
    "Pay attention to the syntax where the field offset `E2C` can be freely accessed in the field operator, but the offset provider `E2C_offset_provider` is passed in a dictionary to the program."
   ]
  },
  {
   "cell_type": "code",
   "execution_count": 15,
   "id": "128794e7",
   "metadata": {},
   "outputs": [
    {
     "ename": "FieldOperatorTypeDeductionError",
     "evalue": "Could not deduce type: Could not deduce type of subscript expression! (2897525956.py, line 3)",
     "output_type": "error",
     "traceback": [
      "Traceback \u001b[0;36m(most recent call last)\u001b[0m:\n",
      "  File \u001b[1;32m~/.local/lib/python3.10/site-packages/IPython/core/interactiveshell.py:3398\u001b[0m in \u001b[1;35mrun_code\u001b[0m\n    exec(code_obj, self.user_global_ns, self.user_ns)\n",
      "  Input \u001b[1;32mIn [15]\u001b[0m in \u001b[1;35m<cell line: 1>\u001b[0m\n    def nearest_cell_to_edge(cell_values: Field[[CellDim], float32]) -> Field[[EdgeDim], float32]:\n",
      "  File \u001b[1;32m~/.local/lib/python3.10/site-packages/functional/ffront/decorator.py:482\u001b[0m in \u001b[1;35mfield_operator\u001b[0m\n    return field_operator_inner if definition is None else field_operator_inner(definition)\n",
      "  File \u001b[1;32m~/.local/lib/python3.10/site-packages/functional/ffront/decorator.py:480\u001b[0m in \u001b[1;35mfield_operator_inner\u001b[0m\n    return FieldOperator.from_function(definition, externals, backend)\n",
      "  File \u001b[1;32m~/.local/lib/python3.10/site-packages/functional/ffront/decorator.py:345\u001b[0m in \u001b[1;35mfrom_function\u001b[0m\n    foast_node = FieldOperatorParser.apply_to_function(definition)\n",
      "  File \u001b[1;32m~/.local/lib/python3.10/site-packages/functional/ffront/dialect_parser.py:118\u001b[0m in \u001b[1;35mapply_to_function\u001b[0m\n    return cls.apply(source_definition, captured_vars, externals)\n",
      "  File \u001b[1;32m~/.local/lib/python3.10/site-packages/functional/ffront/dialect_parser.py:98\u001b[0m in \u001b[1;35mapply\u001b[0m\n    raise err\n",
      "  File \u001b[1;32m~/.local/lib/python3.10/site-packages/functional/ffront/dialect_parser.py:80\u001b[0m in \u001b[1;35mapply\u001b[0m\n    output_ast = cls._postprocess_dialect_ast(\n",
      "  File \u001b[1;32m~/.local/lib/python3.10/site-packages/functional/ffront/func_to_foast.py:98\u001b[0m in \u001b[1;35m_postprocess_dialect_ast\u001b[0m\n    return FieldOperatorTypeDeduction.apply(dialect_ast)\n",
      "  File \u001b[1;32m~/.local/lib/python3.10/site-packages/functional/ffront/foast_passes/type_deduction.py:80\u001b[0m in \u001b[1;35mapply\u001b[0m\n    return cls().visit(node)\n",
      "  File \u001b[1;32m~/.local/lib/python3.10/site-packages/eve/traits.py:162\u001b[0m in \u001b[1;35mvisit\u001b[0m\n    result = super().visit(node, **kwargs)\n",
      "  File \u001b[1;32m~/.local/lib/python3.10/site-packages/eve/visitors.py:123\u001b[0m in \u001b[1;35mvisit\u001b[0m\n    return visitor(node, **kwargs)\n",
      "  File \u001b[1;32m~/.local/lib/python3.10/site-packages/functional/ffront/foast_passes/type_deduction.py:86\u001b[0m in \u001b[1;35mvisit_FieldOperator\u001b[0m\n    body=self.visit(node.body, **kwargs),\n",
      "  File \u001b[1;32m~/.local/lib/python3.10/site-packages/eve/traits.py:162\u001b[0m in \u001b[1;35mvisit\u001b[0m\n    result = super().visit(node, **kwargs)\n",
      "  File \u001b[1;32m~/.local/lib/python3.10/site-packages/eve/visitors.py:123\u001b[0m in \u001b[1;35mvisit\u001b[0m\n    return visitor(node, **kwargs)\n",
      "  File \u001b[1;32m~/.local/lib/python3.10/site-packages/eve/visitors.py:175\u001b[0m in \u001b[1;35mgeneric_visit\u001b[0m\n    return node.__class__(  # type: ignore\n",
      "  File \u001b[1;32m~/.local/lib/python3.10/site-packages/eve/visitors.py:178\u001b[0m in \u001b[1;35m<genexpr>\u001b[0m\n    if (new_child := self.visit(child, **kwargs)) is not NOTHING\n",
      "  File \u001b[1;32m~/.local/lib/python3.10/site-packages/eve/traits.py:162\u001b[0m in \u001b[1;35mvisit\u001b[0m\n    result = super().visit(node, **kwargs)\n",
      "  File \u001b[1;32m~/.local/lib/python3.10/site-packages/eve/visitors.py:123\u001b[0m in \u001b[1;35mvisit\u001b[0m\n    return visitor(node, **kwargs)\n",
      "  File \u001b[1;32m~/.local/lib/python3.10/site-packages/eve/visitors.py:162\u001b[0m in \u001b[1;35mgeneric_visit\u001b[0m\n    **{\n",
      "  File \u001b[1;32m~/.local/lib/python3.10/site-packages/eve/visitors.py:165\u001b[0m in \u001b[1;35m<dictcomp>\u001b[0m\n    if (new_child := self.visit(child, **kwargs)) is not NOTHING\n",
      "  File \u001b[1;32m~/.local/lib/python3.10/site-packages/eve/traits.py:162\u001b[0m in \u001b[1;35mvisit\u001b[0m\n    result = super().visit(node, **kwargs)\n",
      "  File \u001b[1;32m~/.local/lib/python3.10/site-packages/eve/visitors.py:123\u001b[0m in \u001b[1;35mvisit\u001b[0m\n    return visitor(node, **kwargs)\n",
      "  File \u001b[1;32m~/.local/lib/python3.10/site-packages/functional/ffront/foast_passes/type_deduction.py:271\u001b[0m in \u001b[1;35mvisit_Call\u001b[0m\n    new_args = self.visit(node.args, **kwargs)\n",
      "  File \u001b[1;32m~/.local/lib/python3.10/site-packages/eve/traits.py:162\u001b[0m in \u001b[1;35mvisit\u001b[0m\n    result = super().visit(node, **kwargs)\n",
      "  File \u001b[1;32m~/.local/lib/python3.10/site-packages/eve/visitors.py:123\u001b[0m in \u001b[1;35mvisit\u001b[0m\n    return visitor(node, **kwargs)\n",
      "  File \u001b[1;32m~/.local/lib/python3.10/site-packages/eve/visitors.py:175\u001b[0m in \u001b[1;35mgeneric_visit\u001b[0m\n    return node.__class__(  # type: ignore\n",
      "  File \u001b[1;32m~/.local/lib/python3.10/site-packages/eve/visitors.py:178\u001b[0m in \u001b[1;35m<genexpr>\u001b[0m\n    if (new_child := self.visit(child, **kwargs)) is not NOTHING\n",
      "  File \u001b[1;32m~/.local/lib/python3.10/site-packages/eve/traits.py:162\u001b[0m in \u001b[1;35mvisit\u001b[0m\n    result = super().visit(node, **kwargs)\n",
      "  File \u001b[1;32m~/.local/lib/python3.10/site-packages/eve/visitors.py:123\u001b[0m in \u001b[1;35mvisit\u001b[0m\n    return visitor(node, **kwargs)\n",
      "\u001b[0;36m  File \u001b[0;32m~/.local/lib/python3.10/site-packages/functional/ffront/foast_passes/type_deduction.py:154\u001b[0;36m in \u001b[0;35mvisit_Subscript\u001b[0;36m\u001b[0m\n\u001b[0;31m    raise FieldOperatorTypeDeductionError.from_foast_node(\u001b[0m\n",
      "\u001b[0;36m  Input \u001b[0;32mIn [15]\u001b[0;36m\u001b[0m\n\u001b[0;31m    return cell_values(E2C[0])\u001b[0m\n\u001b[0m                       ^\u001b[0m\n\u001b[0;31mFieldOperatorTypeDeductionError\u001b[0m\u001b[0;31m:\u001b[0m Could not deduce type: Could not deduce type of subscript expression!\n"
     ]
    }
   ],
   "source": [
    "@field_operator\n",
    "def nearest_cell_to_edge(cell_values: Field[[CellDim], float32]) -> Field[[EdgeDim], float32]:\n",
    "    return cell_values(E2C[0])\n",
    "\n",
    "@program\n",
    "def run_nearest_cell_to_edge(cell_values: Field[[CellDim], float32], out : Field[[EdgeDim], float32]):\n",
    "    nearest_cell_to_edge(cell_values, out=out)\n",
    "\n",
    "run_nearest_cell_to_edge(cell_values, edge_values, offset_provider={\"E2C\": E2C_offset_provider})\n",
    "\n",
    "print(\"0th adjacent cell's value: {}\".format(np.asarray(edge_values)))"
   ]
  },
  {
   "cell_type": "markdown",
   "id": "4eea5b4a",
   "metadata": {},
   "source": [
    "Running the above snippet results in the following edge field:\n",
    "\n",
    "| ![nearest_cell_values](connectivity_numbered_grid.svg) | $\\mapsto$ | ![grid_topo](connectivity_edge_0th_cell.svg) |\n",
    "|:--:| :--: | :--: |\n",
    "| *Domain (edges)* |  | *Edge values* |"
   ]
  },
  {
   "cell_type": "markdown",
   "id": "e09563ad",
   "metadata": {},
   "source": [
    "#### Using reductions on connected mesh elements\n",
    "\n",
    "Similarly to the previous example, the output is once again a field on edges. The difference is that this field operator does not take the first column of the transformed field, but sums the columns. In other words, the result is the sum of all the cells adjacent to an edge. You can achieve this by first transforming the cell field to a field over the cell neighbors of edges (i.e. a field of dimensions Edge × E2CDim) using `cells(E2C)`, then calling the `neighbor_sum` builtin function to sum along the `E2CDim` dimension."
   ]
  },
  {
   "cell_type": "code",
   "execution_count": null,
   "id": "1fe7c142",
   "metadata": {},
   "outputs": [],
   "source": [
    "@field_operator\n",
    "def sum_adjacent_cells(cells : Field[[CellDim], float32]) -> Field[[EdgeDim], float32]:\n",
    "    # type of cells(E2C) is Field[[CellDim, E2CDim], float32]\n",
    "    return neighbor_sum(cells(E2C), axis=E2CDim)\n",
    "\n",
    "@program\n",
    "def run_sum_adjacent_cells(cells : Field[[CellDim], float32], out : Field[[EdgeDim], float32]):\n",
    "    sum_adjacent_cells(cells, out=out)\n",
    "    \n",
    "run_sum_adjacent_cells(cell_values, edge_values, offset_provider={\"E2C\": E2C_offset_provider})\n",
    "\n",
    "print(\"sum of adjacent cells: {}\".format(np.asarray(edge_values)))"
   ]
  },
  {
   "cell_type": "markdown",
   "id": "f77d0c05",
   "metadata": {},
   "source": [
    "For the border edges, the results are unchanged compared to the previous example, but the inner edges now contain the sum of the two adjacent cells:\n",
    "\n",
    "| ![nearest_cell_values](connectivity_numbered_grid.svg) | $\\mapsto$ | ![cell_values](connectivity_edge_cell_sum.svg) |\n",
    "|:--:| :--: | :--: |\n",
    "| *Domain (edges)* |  | *Edge values* |"
   ]
  },
  {
   "cell_type": "markdown",
   "id": "b36a5544",
   "metadata": {},
   "source": [
    "#### Implementing the pseudo-laplacian\n",
    "\n",
    "As explained in the section outline, the pseudo-laplacian needs the cell-to-edge connectivities as well in addition to the edge-to-cell connectivities. Though the connectivity table has been filled in above, you still need to define the local dimension, the field offset, and the offset provider that describe how to use the connectivity table. The procedure is identical to the edge-to-cell connectivity from before:"
   ]
  },
  {
   "cell_type": "code",
   "execution_count": null,
   "id": "48016b33",
   "metadata": {},
   "outputs": [],
   "source": [
    "C2EDim = Dimension(\"C2E\", True)\n",
    "C2E = FieldOffset(\"C2E\", source=EdgeDim, target=(CellDim, C2EDim))\n",
    "\n",
    "C2E_offset_provider = NeighborTableOffsetProvider(cell_to_edge_table, CellDim, EdgeDim, 3)"
   ]
  },
  {
   "cell_type": "markdown",
   "id": "cde358f5",
   "metadata": {},
   "source": [
    "**Weights of edge differences:**\n",
    "\n",
    "Revisiting the example from the beginning of the section, the equation of the pseudo-laplacian for cell \\#1 is:\n",
    "$$\\text{pseudolap}(cell_1) = -\\text{edge_diff}_{0,1} + \\text{edge_diff}_{1,2} + \\text{edge_diff}_{1,3}$$\n",
    "\n",
    "Notice how $\\text{edge_diff}_{0,1}$ is actually subtracted from the sum rather than added. This is because the edge to cell connectivity table lists cell \\#1 as the second argument to the subtraction rather than the first, so the difference calculated on the edge will be the opposite sign for this particular cell. To fix this, a table that has three elements for every cell is needed, specifying the sign of the difference on the three adjacent edges. If you look for cell \\#1 in the `edge_weights` table below, you can see that the sign is negative for the first edge difference and positive for the second and third, just like in the equation above."
   ]
  },
  {
   "cell_type": "markdown",
   "id": "7bf46fde",
   "metadata": {},
   "source": [
    "In addition to the signs, there is an issue with the border edges as well for which the edge difference is undefined because they only have one cell neighbor. For the the pseudo-laplacian, the edge difference for border edges is considered zero. You can achieve this in the calculations by zeroing out the weights for the border edges in the edge weight table."
   ]
  },
  {
   "cell_type": "markdown",
   "id": "fa77fc73",
   "metadata": {},
   "source": [
    "Incorporating both the signs and the zeros for the border edges, the final edge weights are the following:"
   ]
  },
  {
   "cell_type": "code",
   "execution_count": null,
   "id": "2cab9c7a",
   "metadata": {},
   "outputs": [],
   "source": [
    "edge_weights = np.array([\n",
    "    [0, 1, 1],   # cell 0\n",
    "    [-1, 1, 1],  # cell 1\n",
    "    [0, 0, -1],  # cell 2\n",
    "    [0, -1, 1],  # cell 3\n",
    "    [0, -1, 1],  # cell 4\n",
    "    [0, -1, -1], # cell 5\n",
    "])\n",
    "\n",
    "edge_weight_field = np_as_located_field(CellDim, C2EDim)(edge_weights)"
   ]
  },
  {
   "cell_type": "markdown",
   "id": "9d9fdc01",
   "metadata": {},
   "source": [
    "Now you have everything to implement the the pseudo-laplacian. Its field operator requires the cell field and the edge weights as inputs, and outputs a cell field of the same shape as the input.\n",
    "\n",
    "The first line of the field operator calculates the edge difference for all edges. This is done by creating a temporary field over edges with the value of the first cell neighbour and another temporary field with the value of the second, and the difference of the two fields gives the `edge_differences`.\n",
    "\n",
    "The second lines first creates a temporary field using `edge_differences(C2E)`, which contains the the three adjacent edge differences for every cell. This table is then multiplied elementwise with the `edge_weights`. The final result is a field over cells that contains the pseudo-laplacian."
   ]
  },
  {
   "cell_type": "code",
   "execution_count": null,
   "id": "4bc06142",
   "metadata": {},
   "outputs": [],
   "source": [
    "@field_operator\n",
    "def pseudo_lap(cells : Field[[CellDim], float32],\n",
    "               edge_weights : Field[[CellDim, C2EDim], float32]) -> Field[[CellDim], float32]:\n",
    "    edge_differences = cells(E2C[0]) - cells(E2C[1]) # type: Field[[EdgeDim], float32]\n",
    "    return neighbor_sum(edge_differences(C2E) * edge_weights, axis=C2EDim)"
   ]
  },
  {
   "cell_type": "markdown",
   "id": "a6de33d6",
   "metadata": {},
   "source": [
    "The program itself is just a shallow wrapper over the `pseudo_lap` field operator. The significant part is how offset providers for both the edge-to-cell and cell-to-edge connectivities are supplied when the program is called:"
   ]
  },
  {
   "cell_type": "code",
   "execution_count": null,
   "id": "629aa55d",
   "metadata": {},
   "outputs": [],
   "source": [
    "@program\n",
    "def run_pseudo_laplacian(cells : Field[[CellDim], float32],\n",
    "                         edge_weights : Field[[CellDim, C2EDim], float32],\n",
    "                         out : Field[[CellDim], float32]):\n",
    "    pseudo_lap(cells, edge_weights, out=out)\n",
    "\n",
    "result_pseudo_lap = np_as_located_field(CellDim)(np.zeros(shape=(6,)))\n",
    "\n",
    "run_pseudo_laplacian(cell_values,\n",
    "                     edge_weight_field,\n",
    "                     result_pseudo_lap,\n",
    "                     offset_provider={\"E2C\": E2C_offset_provider, \"C2E\": C2E_offset_provider})\n",
    "\n",
    "print(\"pseudo-laplacian: {}\".format(np.asarray(result_pseudo_lap)))"
   ]
  },
  {
   "cell_type": "markdown",
   "id": "bc656afc",
   "metadata": {},
   "source": [
    "As a closure, here is an example of chaining field operators, which is very simple to do when working with fields. The field operator below executes the pseudo-laplacian, and then calls the pseudo-laplacian on the result of the first, in effect, calculating the laplacian of a laplacian."
   ]
  },
  {
   "cell_type": "code",
   "execution_count": null,
   "id": "88bb796e",
   "metadata": {},
   "outputs": [],
   "source": [
    "@field_operator\n",
    "def pseudo_laplap(cells : Field[[EdgeDim], float32],\n",
    "                  edge_weights : Field[[CellDim, C2EDim], float32]) -> Field[[CellDim], float32]:\n",
    "    return pseudo_lap(pseudo_lap(cells, edge_weights), edge_weights)"
   ]
  },
  {
   "cell_type": "code",
   "execution_count": null,
   "id": "a490e9a7",
   "metadata": {},
   "outputs": [],
   "source": []
  }
 ],
 "metadata": {
  "jupytext": {
   "formats": "ipynb,md:myst"
  },
  "kernelspec": {
   "display_name": "gt4py",
   "language": "python",
   "name": "gt4py"
  },
  "language_info": {
   "codemirror_mode": {
    "name": "ipython",
    "version": 3
   },
   "file_extension": ".py",
   "mimetype": "text/x-python",
   "name": "python",
   "nbconvert_exporter": "python",
   "pygments_lexer": "ipython3",
   "version": "3.10.4"
  }
 },
 "nbformat": 4,
 "nbformat_minor": 5
}
