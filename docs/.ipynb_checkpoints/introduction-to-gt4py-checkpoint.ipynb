{
 "cells": [
  {
   "cell_type": "code",
   "execution_count": 1,
   "id": "84d5aed0",
   "metadata": {
    "slideshow": {
     "slide_type": "skip"
    }
   },
   "outputs": [],
   "source": [
    "import warnings\n",
    "warnings.filterwarnings('ignore')"
   ]
  },
  {
   "cell_type": "markdown",
   "id": "a8ff2a27",
   "metadata": {
    "slideshow": {
     "slide_type": "slide"
    }
   },
   "source": [
    "# Introduction to the `gt4py` functional frontend"
   ]
  },
  {
   "cell_type": "markdown",
   "id": "7852a8cb",
   "metadata": {
    "slideshow": {
     "slide_type": ""
    }
   },
   "source": [
    "## Repositories\n",
    "- [gt4py](https://github.com/GridTools/gt4py/tree/functional)\n",
    "- [icon4py](https://github.com/C2SM/icon4py)\n",
    "- [icon-exclaim](https://github.com/C2SM/icon-exclaim/tree/icon-dsl)\n",
    "\n",
    "## Installation\n",
    "\n",
    "You can install the library directly from GitHub using pip:\n",
    "\n",
    "`pip install git+https://github.com/gridtools/gt4py.git@functional`\n",
    "\n",
    "###### To follow along\n",
    "https://github.com/samkellerhals/gt4py-introduction"
   ]
  },
  {
   "cell_type": "markdown",
   "id": "ce507d4b",
   "metadata": {
    "slideshow": {
     "slide_type": "slide"
    }
   },
   "source": [
    "## Today's topics\n",
    "\n",
    "### Key concepts and application structure in `gt4py`\n",
    "\n",
    "This section introduces various concepts for storing and manipulating data:\n",
    "- Fields\n",
    "- Field operators\n",
    "- Programs\n",
    "- Field offsets\n",
    "\n",
    "\n",
    "### An introduction to porting dusk stencils\n",
    "\n",
    "- Porting `dusk` to `gt4py`.\n",
    "- Unit testing `gt4py` stencils."
   ]
  },
  {
   "cell_type": "markdown",
   "id": "29f1521b",
   "metadata": {
    "slideshow": {
     "slide_type": "slide"
    }
   },
   "source": [
    "### Required imports for this session\n"
   ]
  },
  {
   "cell_type": "code",
   "execution_count": 2,
   "id": "24a6d627",
   "metadata": {
    "slideshow": {
     "slide_type": "-"
    }
   },
   "outputs": [],
   "source": [
    "import numpy as np\n",
    "\n",
    "from functional.ffront.fbuiltins import Dimension, Field, FieldOffset, neighbor_sum\n",
    "\n",
    "from functional.ffront.decorator import field_operator, program\n",
    "\n",
    "from functional.iterator.embedded import np_as_located_field, NeighborTableOffsetProvider"
   ]
  },
  {
   "cell_type": "markdown",
   "id": "af6dc86a",
   "metadata": {
    "slideshow": {
     "slide_type": "slide"
    }
   },
   "source": [
    "### Fields\n",
    "\n",
    "- Store data as a multi-dimensional array.\n",
    "\n",
    "- Are defined over a set of named dimensions."
   ]
  },
  {
   "cell_type": "code",
   "execution_count": 3,
   "id": "b62f10ec",
   "metadata": {
    "slideshow": {
     "slide_type": "fragment"
    }
   },
   "outputs": [
    {
     "name": "stdout",
     "output_type": "stream",
     "text": [
      "[[2. 2. 2. 2. 2. 2.]\n",
      " [2. 2. 2. 2. 2. 2.]\n",
      " [2. 2. 2. 2. 2. 2.]\n",
      " [2. 2. 2. 2. 2. 2.]\n",
      " [2. 2. 2. 2. 2. 2.]] <class 'functional.iterator.embedded.LocatedField'>\n"
     ]
    }
   ],
   "source": [
    "CellDim = Dimension(\"Cell\")\n",
    "KDim = Dimension(\"K\")\n",
    "\n",
    "num_cells = 5\n",
    "num_layers = 6\n",
    "grid_shape = (num_cells, num_layers)\n",
    "\n",
    "a_value = 2.0\n",
    "b_value = 3.0\n",
    "\n",
    "a = np_as_located_field(CellDim, KDim)(np.full(shape=grid_shape, fill_value=a_value, dtype=float))\n",
    "b = np_as_located_field(CellDim, KDim)(np.full(shape=grid_shape, fill_value=b_value, dtype=float))\n",
    "\n",
    "print(a.array(), type(a))"
   ]
  },
  {
   "cell_type": "markdown",
   "id": "80bfe0b8",
   "metadata": {
    "slideshow": {
     "slide_type": "skip"
    }
   },
   "source": [
    "*Note: The interface to construct fields is provisional only and will change soon.*"
   ]
  },
  {
   "cell_type": "markdown",
   "id": "d6deeffe",
   "metadata": {
    "slideshow": {
     "slide_type": "slide"
    }
   },
   "source": [
    "### Field operators\n",
    "\n",
    "*The place where we express the computational pattern of a stencil*\n",
    "\n",
    "- Field operators perform operations on one (or more) **Fields**.\n",
    "\n",
    "- You can write field operators as Python functions by using the `@field_operator` decorator."
   ]
  },
  {
   "cell_type": "code",
   "execution_count": 4,
   "id": "8c46ca38",
   "metadata": {
    "slideshow": {
     "slide_type": "fragment"
    }
   },
   "outputs": [],
   "source": [
    "@field_operator\n",
    "def add(a: Field[[CellDim, KDim], float],\n",
    "        b: Field[[CellDim, KDim], float]) -> Field[[CellDim, KDim], float]:\n",
    "    return a + b"
   ]
  },
  {
   "cell_type": "markdown",
   "id": "f54626b3",
   "metadata": {
    "slideshow": {
     "slide_type": "slide"
    }
   },
   "source": [
    "### Calling field operators\n",
    "\n",
    "You can call a `@field_operator` from:\n",
    "\n",
    "- Programs\n",
    "- Other field operators\n",
    "- Directly "
   ]
  },
  {
   "cell_type": "code",
   "execution_count": 5,
   "id": "5720a139",
   "metadata": {
    "slideshow": {
     "slide_type": "fragment"
    }
   },
   "outputs": [
    {
     "name": "stdout",
     "output_type": "stream",
     "text": [
      "[[5. 5. 5. 5. 5. 5.]\n",
      " [5. 5. 5. 5. 5. 5.]\n",
      " [5. 5. 5. 5. 5. 5.]\n",
      " [5. 5. 5. 5. 5. 5.]\n",
      " [5. 5. 5. 5. 5. 5.]]\n"
     ]
    }
   ],
   "source": [
    "# construct the output field\n",
    "output = np_as_located_field(CellDim, KDim)(np.zeros(shape=grid_shape))\n",
    "\n",
    "# call the field operator\n",
    "add(a, b, out=output, offset_provider={})\n",
    "\n",
    "print(output.array())"
   ]
  },
  {
   "cell_type": "markdown",
   "id": "055091db",
   "metadata": {
    "slideshow": {
     "slide_type": "slide"
    }
   },
   "source": [
    "### Programs"
   ]
  },
  {
   "cell_type": "markdown",
   "id": "2b9d48ba",
   "metadata": {},
   "source": [
    "Programs let you group together multiple field operator calls as a sequence of operations.\n",
    "\n",
    "In contrast to a `@field_operator` a `@program` can mutate its arguments."
   ]
  },
  {
   "cell_type": "code",
   "execution_count": 6,
   "id": "5e8cd123",
   "metadata": {
    "slideshow": {
     "slide_type": "fragment"
    }
   },
   "outputs": [],
   "source": [
    "@program\n",
    "def run_add(a: Field[[CellDim, KDim], float],\n",
    "            b: Field[[CellDim, KDim], float],\n",
    "            output: Field[[CellDim, KDim], float]):\n",
    "    add(a, b, out=output)\n",
    "    add(b, output, out=output)"
   ]
  },
  {
   "cell_type": "markdown",
   "id": "486adfb4",
   "metadata": {
    "slideshow": {
     "slide_type": "slide"
    }
   },
   "source": [
    "Run the program by calling it:"
   ]
  },
  {
   "cell_type": "code",
   "execution_count": 7,
   "id": "6a1be433",
   "metadata": {
    "scrolled": true
   },
   "outputs": [
    {
     "name": "stdout",
     "output_type": "stream",
     "text": [
      "Before:\n",
      " [[0. 0. 0. 0. 0. 0.]\n",
      " [0. 0. 0. 0. 0. 0.]\n",
      " [0. 0. 0. 0. 0. 0.]\n",
      " [0. 0. 0. 0. 0. 0.]\n",
      " [0. 0. 0. 0. 0. 0.]]\n",
      "\n",
      "After:\n",
      " [[8. 8. 8. 8. 8. 8.]\n",
      " [8. 8. 8. 8. 8. 8.]\n",
      " [8. 8. 8. 8. 8. 8.]\n",
      " [8. 8. 8. 8. 8. 8.]\n",
      " [8. 8. 8. 8. 8. 8.]]\n"
     ]
    }
   ],
   "source": [
    "# construct the output field\n",
    "output = np_as_located_field(CellDim, KDim)(np.zeros(shape=grid_shape))\n",
    "\n",
    "print(f\"Before:\\n {output.array()}\\n\")\n",
    "\n",
    "# call the program\n",
    "run_add(a, b, output, offset_provider={})\n",
    "\n",
    "print(f\"After:\\n {output.array()}\")"
   ]
  },
  {
   "cell_type": "markdown",
   "id": "81df3c16",
   "metadata": {
    "slideshow": {
     "slide_type": "slide"
    }
   },
   "source": [
    "### Operations on unstructured meshes\n",
    "\n",
    "We can use field operators to define operations on unstructured meshes, which also involve values on neighboring **cells**, **edges**, or **vertexes**."
   ]
  },
  {
   "cell_type": "markdown",
   "id": "dabc1ae7",
   "metadata": {
    "slideshow": {
     "slide_type": "-"
    }
   },
   "source": [
    "#### Defining the mesh and its connectivities\n",
    "\n",
    "The examples related to unstructured meshes use the mesh below. The edges (in blue) and the cells (in red) are numbered with zero-based indices.\n",
    "\n",
    "| ![grid_topo](connectivity_numbered_grid.svg) |\n",
    "|:---------------:| \n",
    "| *The mesh with the indices* |"
   ]
  },
  {
   "cell_type": "markdown",
   "id": "73afcf71",
   "metadata": {
    "slideshow": {
     "slide_type": "slide"
    }
   },
   "source": [
    "### Defining connectivities\n",
    "\n",
    "To run computations that access neighboring values, the connectivity between elements must be defined.\n",
    "\n",
    "This can be acheived using neighborhood tables such as the ones below:"
   ]
  },
  {
   "cell_type": "code",
   "execution_count": 8,
   "id": "a41bbf6a",
   "metadata": {
    "slideshow": {
     "slide_type": "fragment"
    }
   },
   "outputs": [],
   "source": [
    "edge_to_cell_table = np.array([\n",
    "    [0, None], # edge 0 (neighbours: cell 0)\n",
    "    [2, None], # edge 1\n",
    "    [2, None], # edge 2\n",
    "    [3, None], # edge 3\n",
    "    [4, None], # edge 4\n",
    "    [5, None], # edge 5\n",
    "    [0, 5],  # edge 6 (neighbours: cell 0, cell 5)\n",
    "    [0, 1],  # edge 7\n",
    "    [1, 2],  # edge 8\n",
    "    [1, 3],  # edge 9\n",
    "    [3, 4],  # edge 10\n",
    "    [4, 5]   # edge 11\n",
    "])\n",
    "\n",
    "cell_to_edge_table = np.array([\n",
    "    [0, 6, 7],   # cell 0 (neighbors: edge 0, edge 6, edge 7)\n",
    "    [7, 8, 9],   # cell 1\n",
    "    [1, 2, 8],   # cell 2\n",
    "    [3, 9, 10],  # cell 3\n",
    "    [4, 10, 11], # cell 4\n",
    "    [5, 6, 11],  # cell 5\n",
    "])"
   ]
  },
  {
   "cell_type": "markdown",
   "id": "8b65ba28",
   "metadata": {
    "slideshow": {
     "slide_type": "slide"
    }
   },
   "source": [
    "### Using connectivities to access neighboring cell values\n",
    "\n",
    "We want to define a field operator which will: \n",
    "\n",
    "- Find the first neighboring cell of each edge in the mesh.\n",
    "- Take the cell value of the first neighbor and store it inside the edge.\n",
    "\n",
    "|![cell_values](connectivity_cell_field.svg)|![nearest_cell_values](connectivity_numbered_grid.svg)| $\\mapsto$ |![grid_topo](connectivity_edge_0th_cell.svg) |\n",
    "|:--:|:--:| :--: | :--: |\n",
    "| *Cell values* | *Domain (edges)*  |Transform| *Edge values* |"
   ]
  },
  {
   "cell_type": "markdown",
   "id": "4966bee1",
   "metadata": {
    "slideshow": {
     "slide_type": "slide"
    }
   },
   "source": [
    "### Field Offsets\n",
    "\n",
    "- A `FieldOffset` transforms a `Field` from one domain to another (e.g. `Cell` to `Edge`).\n",
    "\n",
    "- Uses connectivities between source and target dimensions to find values."
   ]
  },
  {
   "cell_type": "markdown",
   "id": "bf078230",
   "metadata": {
    "slideshow": {
     "slide_type": "skip"
    }
   },
   "source": [
    "Let's start by defining two fields: one over the cells and another one over the edges. The field over cells serves input for subsequent calculations and is therefore filled up with values, whereas the field over the edges stores the output of the calculations and is therefore left blank."
   ]
  },
  {
   "cell_type": "code",
   "execution_count": 9,
   "id": "6d5a5b98",
   "metadata": {
    "slideshow": {
     "slide_type": "fragment"
    }
   },
   "outputs": [],
   "source": [
    "CellDim = Dimension(\"Cell\")\n",
    "EdgeDim = Dimension(\"Edge\")\n",
    "\n",
    "cell_values = np_as_located_field(CellDim)(np.array([1.0, 1.0, 2.0, 3.0, 5.0, 8.0]))\n",
    "edge_values = np_as_located_field(EdgeDim)(np.zeros((12,)))\n",
    "\n",
    "E2CDim = Dimension(\"E2C\", local=True)\n",
    "E2C = FieldOffset(\"E2C\", source=CellDim, target=(EdgeDim, E2CDim))"
   ]
  },
  {
   "cell_type": "markdown",
   "id": "9dc42f91",
   "metadata": {
    "slideshow": {
     "slide_type": "fragment"
    }
   },
   "source": [
    "*Note:* The actual connectivity table is provided through an *OffsetProvider*:"
   ]
  },
  {
   "cell_type": "code",
   "execution_count": 10,
   "id": "63e1420c",
   "metadata": {},
   "outputs": [],
   "source": [
    "E2C_offset_provider = NeighborTableOffsetProvider(edge_to_cell_table, EdgeDim, CellDim, 2)"
   ]
  },
  {
   "cell_type": "markdown",
   "id": "a61cf3be",
   "metadata": {
    "slideshow": {
     "slide_type": "slide"
    }
   },
   "source": [
    "### Find the nearest cell value to an edge\n",
    "\n",
    "We can index into the *Edge to Cell* dimension selecting the first neighbor using `E2C[0]`"
   ]
  },
  {
   "cell_type": "code",
   "execution_count": 11,
   "id": "128794e7",
   "metadata": {},
   "outputs": [
    {
     "name": "stdout",
     "output_type": "stream",
     "text": [
      "0th adjacent cell's value: [1. 2. 2. 3. 5. 8. 1. 1. 1. 1. 3. 5.]\n"
     ]
    }
   ],
   "source": [
    "@field_operator\n",
    "def nearest_cell_to_edge(cell_values: Field[[CellDim], float]) -> Field[[EdgeDim], float]:\n",
    "    return cell_values(E2C[0])\n",
    "\n",
    "nearest_cell_to_edge(cell_values, out=edge_values, offset_provider={\"E2C\": E2C_offset_provider})\n",
    "\n",
    "print(\"0th adjacent cell's value: {}\".format(np.asarray(edge_values)))"
   ]
  },
  {
   "cell_type": "markdown",
   "id": "890a0998",
   "metadata": {
    "slideshow": {
     "slide_type": "fragment"
    }
   },
   "source": [
    "|![grid_topo](connectivity_edge_0th_cell.svg)|\n",
    "|:--:|\n",
    "|Edge Values|"
   ]
  },
  {
   "cell_type": "markdown",
   "id": "e09563ad",
   "metadata": {
    "slideshow": {
     "slide_type": "slide"
    }
   },
   "source": [
    "### Using reductions on connected mesh elements\n",
    "\n",
    "\n",
    "- We can also use *FieldOffsets* to implement reductions.\n",
    "\n",
    "- One example is a sum across neighboring cells along the `E2C` dimension.\n",
    "\n",
    "|![cell_values](connectivity_cell_field.svg)|![nearest_cell_values](connectivity_numbered_grid.svg)| $\\mapsto$ |![grid_topo](connectivity_edge_cell_sum.svg) |\n",
    "|:--:|:--:| :--: | :--: |\n",
    "| *Cell values* | *Domain (edges)*  |Transform| *Edge values* |"
   ]
  },
  {
   "cell_type": "markdown",
   "id": "cfa38071",
   "metadata": {
    "slideshow": {
     "slide_type": "slide"
    }
   },
   "source": [
    "The field operator for the neighbor sum is as follows:"
   ]
  },
  {
   "cell_type": "code",
   "execution_count": 12,
   "id": "1fe7c142",
   "metadata": {
    "slideshow": {
     "slide_type": "-"
    }
   },
   "outputs": [
    {
     "name": "stdout",
     "output_type": "stream",
     "text": [
      "sum of adjacent cells: [ 1.  2.  2.  3.  5.  8.  9.  2.  3.  4.  8. 13.]\n"
     ]
    }
   ],
   "source": [
    "@field_operator\n",
    "def sum_adjacent_cells(cells: Field[[CellDim], float]) -> Field[[EdgeDim], float]:\n",
    "    return neighbor_sum(cells(E2C), axis=E2CDim)\n",
    "\n",
    "sum_adjacent_cells(cell_values, out=edge_values, offset_provider={\"E2C\": E2C_offset_provider})\n",
    "\n",
    "print(\"sum of adjacent cells: {}\".format(np.asarray(edge_values)))"
   ]
  },
  {
   "cell_type": "markdown",
   "id": "883c742f",
   "metadata": {
    "slideshow": {
     "slide_type": "fragment"
    }
   },
   "source": [
    "|![grid_topo](connectivity_edge_cell_sum.svg)|\n",
    "|:--:|\n",
    "|Edge Values|"
   ]
  },
  {
   "cell_type": "markdown",
   "id": "19e7eccd",
   "metadata": {
    "slideshow": {
     "slide_type": "slide"
    }
   },
   "source": [
    "#### Introduction to Dusk and Stencil Porting"
   ]
  }
 ],
 "metadata": {
  "celltoolbar": "Slideshow",
  "jupytext": {
   "formats": "ipynb,md:myst"
  },
  "kernelspec": {
   "display_name": "gt4py",
   "language": "python",
   "name": "gt4py"
  },
  "language_info": {
   "codemirror_mode": {
    "name": "ipython",
    "version": 3
   },
   "file_extension": ".py",
   "mimetype": "text/x-python",
   "name": "python",
   "nbconvert_exporter": "python",
   "pygments_lexer": "ipython3",
   "version": "3.10.4"
  }
 },
 "nbformat": 4,
 "nbformat_minor": 5
}
